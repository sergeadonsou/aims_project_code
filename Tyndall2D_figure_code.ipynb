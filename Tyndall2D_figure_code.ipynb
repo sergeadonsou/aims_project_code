{
  "nbformat": 4,
  "nbformat_minor": 0,
  "metadata": {
    "colab": {
      "name": "Tyndall2D_figure_code.ipynb",
      "provenance": []
    },
    "kernelspec": {
      "name": "python3",
      "display_name": "Python 3"
    }
  },
  "cells": [
    {
      "cell_type": "code",
      "metadata": {
        "id": "jmTTcnEDGqjX",
        "colab_type": "code",
        "colab": {}
      },
      "source": [
        "import warnings\n",
        "warnings.filterwarnings(\"ignore\")\n",
        "#importation of the required packages "
      ],
      "execution_count": 0,
      "outputs": []
    },
    {
      "cell_type": "code",
      "metadata": {
        "id": "fP3UI2BdzCVM",
        "colab_type": "code",
        "outputId": "63fd7e19-0574-4bcd-8b0d-25c9215e464e",
        "colab": {
          "base_uri": "https://localhost:8080/",
          "height": 211
        }
      },
      "source": [
        "!pip install fipy"
      ],
      "execution_count": 0,
      "outputs": [
        {
          "output_type": "stream",
          "text": [
            "Requirement already satisfied: fipy in /usr/local/lib/python3.6/dist-packages (3.4.1)\n",
            "Requirement already satisfied: future in /usr/local/lib/python3.6/dist-packages (from fipy) (0.16.0)\n",
            "Requirement already satisfied: scipy in /usr/local/lib/python3.6/dist-packages (from fipy) (1.4.1)\n",
            "Requirement already satisfied: numpy in /usr/local/lib/python3.6/dist-packages (from fipy) (1.18.4)\n",
            "Requirement already satisfied: matplotlib in /usr/local/lib/python3.6/dist-packages (from fipy) (3.2.1)\n",
            "Requirement already satisfied: pyparsing!=2.0.4,!=2.1.2,!=2.1.6,>=2.0.1 in /usr/local/lib/python3.6/dist-packages (from matplotlib->fipy) (2.4.7)\n",
            "Requirement already satisfied: cycler>=0.10 in /usr/local/lib/python3.6/dist-packages (from matplotlib->fipy) (0.10.0)\n",
            "Requirement already satisfied: python-dateutil>=2.1 in /usr/local/lib/python3.6/dist-packages (from matplotlib->fipy) (2.8.1)\n",
            "Requirement already satisfied: kiwisolver>=1.0.1 in /usr/local/lib/python3.6/dist-packages (from matplotlib->fipy) (1.2.0)\n",
            "Requirement already satisfied: six in /usr/local/lib/python3.6/dist-packages (from cycler>=0.10->matplotlib->fipy) (1.12.0)\n"
          ],
          "name": "stdout"
        }
      ]
    },
    {
      "cell_type": "code",
      "metadata": {
        "id": "xFv1ZCLGzHBK",
        "colab_type": "code",
        "colab": {}
      },
      "source": [
        "from fipy import *"
      ],
      "execution_count": 0,
      "outputs": []
    },
    {
      "cell_type": "code",
      "metadata": {
        "id": "bLSW-DW7zPNJ",
        "colab_type": "code",
        "colab": {}
      },
      "source": [
        "p = lambda phi: phi**3 * (6 * phi**2 - 15 * phi + 10)\n",
        "g = lambda phi: phi**2 * (1 - phi)**2\n",
        "\n",
        "# #derivatives of prevouis function \n",
        "# pp = lambda phi: 30. * g(phi)\n",
        "# gp = lambda phi: 2. * phi * (1 - phi) * (1 - 2 * phi)\n",
        "\n",
        "def inter(values):\n",
        "    \"\"\"the role of this function is to interpolate every constante\"\"\"\n",
        "    ret = lambda phi: p(phi)*values[0]+(1-p(phi))*values[1]\n",
        "    return ret"
      ],
      "execution_count": 0,
      "outputs": []
    },
    {
      "cell_type": "code",
      "metadata": {
        "id": "vOW11xijz9I3",
        "colab_type": "code",
        "colab": {}
      },
      "source": [
        "# Lenght in m\n",
        "# Mass in Kg\n",
        "# Temperature in K\n",
        "# Time in s\n",
        "# Energy in Joule  \n",
        "# Global data\n",
        "\n",
        "cp = [4181000,2050000] #J / cm3.K\n",
        "k = [.6, 2.] \n",
        "alpha = [10000.,100.]\n",
        "d = .01\n",
        "rb = .01\n",
        "I0 = 300.\n",
        "I1 = I0 * numerix.exp(-alpha[1]*d)\n",
        "\n",
        "#interpolating coefficient \n",
        "cp_tild = inter(cp)\n",
        "k_tild = inter(k)\n",
        "alpha_tild = inter(alpha)\n"
      ],
      "execution_count": 0,
      "outputs": []
    },
    {
      "cell_type": "code",
      "metadata": {
        "id": "A-wqAonv4WXn",
        "colab_type": "code",
        "colab": {}
      },
      "source": [
        "# other parameter of water\n",
        "Tm = 273.15 # K  \n",
        "Lv = 330000000.\n",
        "beta = .1 #kinetic coefficient changeble\n",
        "sigma = .033 # J / m**3 #Interfacial energy"
      ],
      "execution_count": 0,
      "outputs": []
    },
    {
      "cell_type": "markdown",
      "metadata": {
        "id": "7-01J9srRuCw",
        "colab_type": "text"
      },
      "source": [
        "# To simulate the phase field evolution run the following cells "
      ]
    },
    {
      "cell_type": "code",
      "metadata": {
        "id": "OZcsH0nnEPvt",
        "colab_type": "code",
        "outputId": "9b4bf5e1-3fe6-441d-a4c6-8a2db491b747",
        "colab": {
          "base_uri": "https://localhost:8080/",
          "height": 258
        }
      },
      "source": [
        "#deltaT = .04\n",
        "#parameter of the mesh\n",
        "#L = .4 #cm\n",
        "L = .001 \n",
        "nx = 100.\n",
        "dx = L / nx\n",
        "#mesh = Grid1D(nx=nx, dx=dx)\n",
        "mesh = Grid2D(nx=nx, dx=dx, ny=nx, dy=dx)\n",
        " \n",
        "#time step\n",
        "dt = .001\n",
        "\n",
        "#Declaration of the phase variable\n",
        "phase = CellVariable(name=\" phase \", mesh=mesh,hasOld=True)\n",
        "\n",
        "#Initialization of the phase field variable \n",
        "phase.setValue(1.)\n",
        "phase.setValue(0., where= ((mesh.x-L/2)**2+(mesh.y-L/2)**2 >= L**2/100))\n",
        "\n",
        "\n",
        "dT = CellVariable(name=\" temp \", mesh=mesh,hasOld=True)\n",
        "dT.setValue(Tm)\n",
        "\n",
        "\n",
        "delta = 1.5* dx\n",
        "kappa = 6 * sigma * delta # J / m\n",
        "W = 3 * sigma / delta # J / m**3\n",
        "Mphi = Tm * beta / (6. * Lv * delta) # m**3 / (J s)\n",
        "\n",
        "#definition of the phase field equation\n",
        "mPhi = -(2*(1 - 2 * phase) * W + 30 * phase * (1 - phase) * Lv * (-dT + Tm) / Tm)\n",
        "dmPhidPhi = 4 * W - 30 * (1 - 2 * phase) * Lv * (-dT + Tm) / Tm\n",
        "S1 = dmPhidPhi * phase * (1 - phase) + mPhi * (1 - 2 * phase)\n",
        "S0 = mPhi * phase * (1 - phase) - S1 * phase\n",
        "phaseEq = ( TransientTerm(coeff = 1/Mphi, var = phase) == DiffusionTerm(coeff = kappa, var = phase) \\\n",
        "                                                        + S0 + ImplicitSourceTerm(coeff = S1, var = phase) )\n",
        "\n",
        "\n",
        "#dT.constrain(1,where = mesh.facesLeft)\n",
        "eqX = (TransientTerm(coeff = cp_tild(phase),var=dT) == DiffusionTerm(coeff = k_tild(phase),var=dT)\\\n",
        "                                                  - (Lv / dt)*(phase - phase.old) \\\n",
        "                                                  + alpha_tild(phase) * I1 * numerix.exp(-((mesh.x-L/2)**2+(mesh.y-L/2)**2)/rb**2)\\\n",
        "                                                  )\n",
        "\n",
        "# #dt = .001\n",
        "eq = phaseEq & eqX\n",
        "\n",
        "viewer1 = MatplotlibViewer(vars=(phase) )\n",
        "#viewer2= MatplotlibViewer(vars=(dT) )\n",
        "\n",
        "for step in range(451):\n",
        "    phase.updateOld()\n",
        "    dT.updateOld()\n",
        "    eq.solve(dt=dt)\n",
        "    #eqX.solve(dt=dt)\n",
        "    viewer1.plot()"
      ],
      "execution_count": 0,
      "outputs": [
        {
          "output_type": "display_data",
          "data": {
            "image/png": "[encoded data removed]",
            "text/plain": [
              "<Figure size 288x288 with 2 Axes>"
            ]
          },
          "metadata": {
            "tags": [],
            "needs_background": "light"
          }
        }
      ]
    },
    {
      "cell_type": "markdown",
      "metadata": {
        "id": "ZsfBaLFuRUoA",
        "colab_type": "text"
      },
      "source": [
        "# To simulate the temperature evolution run the following cells "
      ]
    },
    {
      "cell_type": "code",
      "metadata": {
        "id": "R43qHU5bAAl5",
        "colab_type": "code",
        "outputId": "59cf0b7c-44af-4465-b650-1bbbeb29399b",
        "colab": {
          "base_uri": "https://localhost:8080/",
          "height": 258
        }
      },
      "source": [
        "#deltaT = .04\n",
        "#parameter of the mesh\n",
        "#L = .4 #cm\n",
        "L = .001 \n",
        "nx = 100.\n",
        "dx = L / nx\n",
        "#mesh = Grid1D(nx=nx, dx=dx)\n",
        "mesh = Grid2D(nx=nx, dx=dx, ny=nx, dy=dx)\n",
        " \n",
        "#time step\n",
        "dt = .001\n",
        "\n",
        "#Declaration of the phase variable\n",
        "phase = CellVariable(name=\" phase \", mesh=mesh,hasOld=True)\n",
        "\n",
        "#Initialization of the phase field variable \n",
        "phase.setValue(1.)\n",
        "phase.setValue(0., where= ((mesh.x-L/2)**2+(mesh.y-L/2)**2 >= L**2/100))\n",
        "\n",
        "\n",
        "dT = CellVariable(name=\" temp \", mesh=mesh,hasOld=True)\n",
        "dT.setValue(Tm)\n",
        "\n",
        "\n",
        "delta = 1.5* dx\n",
        "kappa = 6 * sigma * delta # J / m\n",
        "W = 3 * sigma / delta # J / m**3\n",
        "Mphi = Tm * beta / (6. * Lv * delta) # m**3 / (J s)\n",
        "\n",
        "#definition of the phase field equation\n",
        "mPhi = -(2*(1 - 2 * phase) * W + 30 * phase * (1 - phase) * Lv * (-dT + Tm) / Tm)\n",
        "dmPhidPhi = 4 * W - 30 * (1 - 2 * phase) * Lv * (-dT + Tm) / Tm\n",
        "S1 = dmPhidPhi * phase * (1 - phase) + mPhi * (1 - 2 * phase)\n",
        "S0 = mPhi * phase * (1 - phase) - S1 * phase\n",
        "phaseEq = ( TransientTerm(coeff = 1/Mphi, var = phase) == DiffusionTerm(coeff = kappa, var = phase) \\\n",
        "                                                        + S0 + ImplicitSourceTerm(coeff = S1, var = phase) )\n",
        "\n",
        "\n",
        "#dT.constrain(1,where = mesh.facesLeft)\n",
        "eqX = (TransientTerm(coeff = cp_tild(phase),var=dT) == DiffusionTerm(coeff = k_tild(phase),var=dT)\\\n",
        "                                                  - (Lv / dt)*(phase - phase.old) \\\n",
        "                                                  + alpha_tild(phase) * I1 * numerix.exp(-((mesh.x-L/2)**2+(mesh.y-L/2)**2)/rb**2)\\\n",
        "                                                  )\n",
        "\n",
        "# #dt = .001\n",
        "eq = phaseEq & eqX\n",
        "\n",
        "#viewer1 = MatplotlibViewer(vars=(phase) )\n",
        "viewer2= MatplotlibViewer(vars=(dT) )\n",
        "\n",
        "for step in range(451):\n",
        "    phase.updateOld()\n",
        "    dT.updateOld()\n",
        "    eq.solve(dt=dt)\n",
        "    #eqX.solve(dt=dt)\n",
        "    viewer2.plot()"
      ],
      "execution_count": 0,
      "outputs": [
        {
          "output_type": "display_data",
          "data": {
            "image/png": "[encoded data removed]",
            "text/plain": [
              "<Figure size 288x288 with 2 Axes>"
            ]
          },
          "metadata": {
            "tags": [],
            "needs_background": "light"
          }
        }
      ]
    },
    {
      "cell_type": "code",
      "metadata": {
        "id": "kKhsFvtUbUCB",
        "colab_type": "code",
        "colab": {}
      },
      "source": [
        ""
      ],
      "execution_count": 0,
      "outputs": []
    },
    {
      "cell_type": "code",
      "metadata": {
        "id": "y0f-UPwoFh64",
        "colab_type": "code",
        "colab": {}
      },
      "source": [
        ""
      ],
      "execution_count": 0,
      "outputs": []
    }
  ]
}