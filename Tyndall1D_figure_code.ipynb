{
  "nbformat": 4,
  "nbformat_minor": 0,
  "metadata": {
    "colab": {
      "name": "Tyndall1D_figure_code.ipynb",
      "provenance": []
    },
    "kernelspec": {
      "name": "python3",
      "display_name": "Python 3"
    }
  },
  "cells": [
    {
      "cell_type": "markdown",
      "metadata": {
        "id": "PD0UE2DkTguD",
        "colab_type": "text"
      },
      "source": [
        "# Preliminary functions and declaration of the parameters."
      ]
    },
    {
      "cell_type": "code",
      "metadata": {
        "id": "jmTTcnEDGqjX",
        "colab_type": "code",
        "colab": {}
      },
      "source": [
        "import warnings\n",
        "warnings.filterwarnings(\"ignore\")\n",
        "#importation of the required packages "
      ],
      "execution_count": 0,
      "outputs": []
    },
    {
      "cell_type": "code",
      "metadata": {
        "id": "fP3UI2BdzCVM",
        "colab_type": "code",
        "outputId": "49816826-3def-47e1-cd81-2c797d6ff3cc",
        "colab": {
          "base_uri": "https://localhost:8080/",
          "height": 367
        }
      },
      "source": [
        "!pip install fipy"
      ],
      "execution_count": 2,
      "outputs": [
        {
          "output_type": "stream",
          "text": [
            "Collecting fipy\n",
            "\u001b[?25l  Downloading https://files.pythonhosted.org/packages/6f/31/90bf09af6279ba4cef9398e645a06f15c4f905bc6b3b98cf03a31de5e373/FiPy-3.4.1.tar.gz (724kB)\n",
            "\r\u001b[K     |▌                               | 10kB 17.7MB/s eta 0:00:01\r\u001b[K     |█                               | 20kB 1.8MB/s eta 0:00:01\r\u001b[K     |█▍                              | 30kB 2.2MB/s eta 0:00:01\r\u001b[K     |█▉                              | 40kB 1.7MB/s eta 0:00:01\r\u001b[K     |██▎                             | 51kB 1.9MB/s eta 0:00:01\r\u001b[K     |██▊                             | 61kB 2.2MB/s eta 0:00:01\r\u001b[K     |███▏                            | 71kB 2.4MB/s eta 0:00:01\r\u001b[K     |███▋                            | 81kB 2.6MB/s eta 0:00:01\r\u001b[K     |████                            | 92kB 2.9MB/s eta 0:00:01\r\u001b[K     |████▌                           | 102kB 2.8MB/s eta 0:00:01\r\u001b[K     |█████                           | 112kB 2.8MB/s eta 0:00:01\r\u001b[K     |█████▍                          | 122kB 2.8MB/s eta 0:00:01\r\u001b[K     |█████▉                          | 133kB 2.8MB/s eta 0:00:01\r\u001b[K     |██████▍                         | 143kB 2.8MB/s eta 0:00:01\r\u001b[K     |██████▉                         | 153kB 2.8MB/s eta 0:00:01\r\u001b[K     |███████▎                        | 163kB 2.8MB/s eta 0:00:01\r\u001b[K     |███████▊                        | 174kB 2.8MB/s eta 0:00:01\r\u001b[K     |████████▏                       | 184kB 2.8MB/s eta 0:00:01\r\u001b[K     |████████▋                       | 194kB 2.8MB/s eta 0:00:01\r\u001b[K     |█████████                       | 204kB 2.8MB/s eta 0:00:01\r\u001b[K     |█████████▌                      | 215kB 2.8MB/s eta 0:00:01\r\u001b[K     |██████████                      | 225kB 2.8MB/s eta 0:00:01\r\u001b[K     |██████████▍                     | 235kB 2.8MB/s eta 0:00:01\r\u001b[K     |██████████▉                     | 245kB 2.8MB/s eta 0:00:01\r\u001b[K     |███████████▎                    | 256kB 2.8MB/s eta 0:00:01\r\u001b[K     |███████████▊                    | 266kB 2.8MB/s eta 0:00:01\r\u001b[K     |████████████▏                   | 276kB 2.8MB/s eta 0:00:01\r\u001b[K     |████████████▊                   | 286kB 2.8MB/s eta 0:00:01\r\u001b[K     |█████████████▏                  | 296kB 2.8MB/s eta 0:00:01\r\u001b[K     |█████████████▋                  | 307kB 2.8MB/s eta 0:00:01\r\u001b[K     |██████████████                  | 317kB 2.8MB/s eta 0:00:01\r\u001b[K     |██████████████▌                 | 327kB 2.8MB/s eta 0:00:01\r\u001b[K     |███████████████                 | 337kB 2.8MB/s eta 0:00:01\r\u001b[K     |███████████████▍                | 348kB 2.8MB/s eta 0:00:01\r\u001b[K     |███████████████▉                | 358kB 2.8MB/s eta 0:00:01\r\u001b[K     |████████████████▎               | 368kB 2.8MB/s eta 0:00:01\r\u001b[K     |████████████████▊               | 378kB 2.8MB/s eta 0:00:01\r\u001b[K     |█████████████████▏              | 389kB 2.8MB/s eta 0:00:01\r\u001b[K     |█████████████████▋              | 399kB 2.8MB/s eta 0:00:01\r\u001b[K     |██████████████████              | 409kB 2.8MB/s eta 0:00:01\r\u001b[K     |██████████████████▌             | 419kB 2.8MB/s eta 0:00:01\r\u001b[K     |███████████████████             | 430kB 2.8MB/s eta 0:00:01\r\u001b[K     |███████████████████▌            | 440kB 2.8MB/s eta 0:00:01\r\u001b[K     |████████████████████            | 450kB 2.8MB/s eta 0:00:01\r\u001b[K     |████████████████████▍           | 460kB 2.8MB/s eta 0:00:01\r\u001b[K     |████████████████████▉           | 471kB 2.8MB/s eta 0:00:01\r\u001b[K     |█████████████████████▎          | 481kB 2.8MB/s eta 0:00:01\r\u001b[K     |█████████████████████▊          | 491kB 2.8MB/s eta 0:00:01\r\u001b[K     |██████████████████████▏         | 501kB 2.8MB/s eta 0:00:01\r\u001b[K     |██████████████████████▋         | 512kB 2.8MB/s eta 0:00:01\r\u001b[K     |███████████████████████         | 522kB 2.8MB/s eta 0:00:01\r\u001b[K     |███████████████████████▌        | 532kB 2.8MB/s eta 0:00:01\r\u001b[K     |████████████████████████        | 542kB 2.8MB/s eta 0:00:01\r\u001b[K     |████████████████████████▍       | 552kB 2.8MB/s eta 0:00:01\r\u001b[K     |█████████████████████████       | 563kB 2.8MB/s eta 0:00:01\r\u001b[K     |█████████████████████████▍      | 573kB 2.8MB/s eta 0:00:01\r\u001b[K     |█████████████████████████▉      | 583kB 2.8MB/s eta 0:00:01\r\u001b[K     |██████████████████████████▎     | 593kB 2.8MB/s eta 0:00:01\r\u001b[K     |██████████████████████████▊     | 604kB 2.8MB/s eta 0:00:01\r\u001b[K     |███████████████████████████▏    | 614kB 2.8MB/s eta 0:00:01\r\u001b[K     |███████████████████████████▋    | 624kB 2.8MB/s eta 0:00:01\r\u001b[K     |████████████████████████████    | 634kB 2.8MB/s eta 0:00:01\r\u001b[K     |████████████████████████████▌   | 645kB 2.8MB/s eta 0:00:01\r\u001b[K     |█████████████████████████████   | 655kB 2.8MB/s eta 0:00:01\r\u001b[K     |█████████████████████████████▍  | 665kB 2.8MB/s eta 0:00:01\r\u001b[K     |█████████████████████████████▉  | 675kB 2.8MB/s eta 0:00:01\r\u001b[K     |██████████████████████████████▎ | 686kB 2.8MB/s eta 0:00:01\r\u001b[K     |██████████████████████████████▊ | 696kB 2.8MB/s eta 0:00:01\r\u001b[K     |███████████████████████████████▎| 706kB 2.8MB/s eta 0:00:01\r\u001b[K     |███████████████████████████████▊| 716kB 2.8MB/s eta 0:00:01\r\u001b[K     |████████████████████████████████| 727kB 2.8MB/s \n",
            "\u001b[?25hRequirement already satisfied: numpy in /usr/local/lib/python3.6/dist-packages (from fipy) (1.18.4)\n",
            "Requirement already satisfied: scipy in /usr/local/lib/python3.6/dist-packages (from fipy) (1.4.1)\n",
            "Requirement already satisfied: matplotlib in /usr/local/lib/python3.6/dist-packages (from fipy) (3.2.1)\n",
            "Requirement already satisfied: future in /usr/local/lib/python3.6/dist-packages (from fipy) (0.16.0)\n",
            "Requirement already satisfied: python-dateutil>=2.1 in /usr/local/lib/python3.6/dist-packages (from matplotlib->fipy) (2.8.1)\n",
            "Requirement already satisfied: pyparsing!=2.0.4,!=2.1.2,!=2.1.6,>=2.0.1 in /usr/local/lib/python3.6/dist-packages (from matplotlib->fipy) (2.4.7)\n",
            "Requirement already satisfied: kiwisolver>=1.0.1 in /usr/local/lib/python3.6/dist-packages (from matplotlib->fipy) (1.2.0)\n",
            "Requirement already satisfied: cycler>=0.10 in /usr/local/lib/python3.6/dist-packages (from matplotlib->fipy) (0.10.0)\n",
            "Requirement already satisfied: six>=1.5 in /usr/local/lib/python3.6/dist-packages (from python-dateutil>=2.1->matplotlib->fipy) (1.12.0)\n",
            "Building wheels for collected packages: fipy\n",
            "  Building wheel for fipy (setup.py) ... \u001b[?25l\u001b[?25hdone\n",
            "  Created wheel for fipy: filename=FiPy-3.4.1-cp36-none-any.whl size=421818 sha256=d787be60246af8ffc13d6357e504557196e10877e8704582f1683ebf7effc588\n",
            "  Stored in directory: /root/.cache/pip/wheels/1e/75/80/0814f640811a614a675de4a074d6115691c44e74e9b9413fb2\n",
            "Successfully built fipy\n",
            "Installing collected packages: fipy\n",
            "Successfully installed fipy-3.4.1\n"
          ],
          "name": "stdout"
        }
      ]
    },
    {
      "cell_type": "code",
      "metadata": {
        "id": "xFv1ZCLGzHBK",
        "colab_type": "code",
        "colab": {}
      },
      "source": [
        "from fipy import *"
      ],
      "execution_count": 0,
      "outputs": []
    },
    {
      "cell_type": "code",
      "metadata": {
        "id": "bLSW-DW7zPNJ",
        "colab_type": "code",
        "colab": {}
      },
      "source": [
        "p = lambda phi: phi**3 * (6 * phi**2 - 15 * phi + 10)\n",
        "g = lambda phi: phi**2 * (1 - phi)**2\n",
        "\n",
        "# #derivatives of prevouis function \n",
        "# pp = lambda phi: 30. * g(phi)\n",
        "# gp = lambda phi: 2. * phi * (1 - phi) * (1 - 2 * phi)\n",
        "\n",
        "def inter(values):\n",
        "    \"\"\"the role of this function is to interpolate every constante\"\"\"\n",
        "    ret = lambda phi: p(phi)*values[0]+(1-p(phi))*values[1]\n",
        "    return ret"
      ],
      "execution_count": 0,
      "outputs": []
    },
    {
      "cell_type": "code",
      "metadata": {
        "id": "vOW11xijz9I3",
        "colab_type": "code",
        "colab": {}
      },
      "source": [
        "# Lenght in m\n",
        "# Mass in Kg\n",
        "# Temperature in K\n",
        "# Time in s\n",
        "# Energy in Joule  \n",
        "# Global data\n",
        "\n",
        "cp = [4181000,2050000] #J / cm3.K\n",
        "k = [.6, 2.] \n",
        "alpha = [10000.,100.]\n",
        "d = .01\n",
        "rb = .01\n",
        "I0 = 300.\n",
        "I1 = I0 * numerix.exp(-alpha[1]*d)\n",
        "\n",
        "#interpolating coefficient \n",
        "cp_tild = inter(cp)\n",
        "k_tild = inter(k)\n",
        "alpha_tild = inter(alpha)\n"
      ],
      "execution_count": 0,
      "outputs": []
    },
    {
      "cell_type": "code",
      "metadata": {
        "id": "A-wqAonv4WXn",
        "colab_type": "code",
        "colab": {}
      },
      "source": [
        "# other parameter of water\n",
        "Tm = 273.15 # K  \n",
        "Lv = 330000000.\n",
        "beta = .1 #kinetic coefficient changeble\n",
        "sigma = .033 # J / m**3 #Interfacial energy"
      ],
      "execution_count": 0,
      "outputs": []
    },
    {
      "cell_type": "markdown",
      "metadata": {
        "id": "iljbndfaSrGk",
        "colab_type": "text"
      },
      "source": [
        "# To simulate the evolution of the phase field in 1D run the following cell"
      ]
    },
    {
      "cell_type": "code",
      "metadata": {
        "id": "R43qHU5bAAl5",
        "colab_type": "code",
        "outputId": "28d204e6-955b-4ec1-c0c5-0338f0461918",
        "colab": {
          "base_uri": "https://localhost:8080/",
          "height": 281
        }
      },
      "source": [
        "#deltaT = .04\n",
        "#parameter of the mesh\n",
        "#L = .4 #cm\n",
        "L = .001 \n",
        "nx = 100.\n",
        "dx = L / nx\n",
        "mesh = Grid1D(nx=nx, dx=dx)\n",
        "#mesh = Grid2D(nx=nx, dx=dx, ny=nx, dy=dx)\n",
        " \n",
        "#time step\n",
        "dt = .001\n",
        "\n",
        "#Declaration of the phase variable\n",
        "phase = CellVariable(name=\" phase \", mesh=mesh,hasOld=True)\n",
        "\n",
        "#Initialization of the phase field variable \n",
        "phase.setValue(1.)\n",
        "phase.setValue(0., where= ((mesh.x-L/2)**2 >= L**2/100))\n",
        "\n",
        "\n",
        "dT = CellVariable(name=\" temp \", mesh=mesh,hasOld=True)\n",
        "dT.setValue(Tm)\n",
        "\n",
        "\n",
        "delta = 1.5* dx\n",
        "kappa = 6 * sigma * delta # J / m\n",
        "W = 3 * sigma / delta # J / m**3\n",
        "Mphi = Tm * beta / (6. * Lv * delta) # m**3 / (J s)\n",
        "\n",
        "#definition of the phase field equation\n",
        "mPhi = -(2*(1 - 2 * phase) * W + 30 * phase * (1 - phase) * Lv * (-dT + Tm) / Tm)\n",
        "dmPhidPhi = 4 * W - 30 * (1 - 2 * phase) * Lv * (-dT + Tm) / Tm\n",
        "S1 = dmPhidPhi * phase * (1 - phase) + mPhi * (1 - 2 * phase)\n",
        "S0 = mPhi * phase * (1 - phase) - S1 * phase\n",
        "phaseEq = ( TransientTerm(coeff = 1/Mphi, var = phase) == DiffusionTerm(coeff = kappa, var = phase) \\\n",
        "                                                        + S0 + ImplicitSourceTerm(coeff = S1, var = phase) )\n",
        "\n",
        "\n",
        "#dT.constrain(1,where = mesh.facesLeft)\n",
        "eqX = (TransientTerm(coeff = cp_tild(phase),var=dT) == DiffusionTerm(coeff = k_tild(phase),var=dT)\\\n",
        "                                                  - (Lv / dt)*(phase - phase.old) \\\n",
        "                                                  + alpha_tild(phase) * I1 * numerix.exp(-((mesh.x-L/2)**2)/rb**2)\\\n",
        "                                                  )\n",
        "\n",
        "# #dt = .001\n",
        "eq = phaseEq & eqX\n",
        "\n",
        "viewer1 = MatplotlibViewer(vars=(phase) )\n",
        "#viewer2= MatplotlibViewer(vars=(dT) )\n",
        "\n",
        "for step in range(451):\n",
        "    phase.updateOld()\n",
        "    dT.updateOld()\n",
        "    # res = 1e+10\n",
        "    # while res > 1e-7:\n",
        "    #      res = phaseEq.sweep(dt=dt)\n",
        "    eq.solve(dt=dt)\n",
        "    #eqX.solve(dt=dt)\n",
        "    viewer1.plot()"
      ],
      "execution_count": 11,
      "outputs": [
        {
          "output_type": "display_data",
          "data": {
            "image/png": "[encoded data removed]",
            "text/plain": [
              "<Figure size 288x288 with 1 Axes>"
            ]
          },
          "metadata": {
            "tags": [],
            "needs_background": "light"
          }
        }
      ]
    },
    {
      "cell_type": "markdown",
      "metadata": {
        "id": "vZ_KE17eS-D4",
        "colab_type": "text"
      },
      "source": [
        "# To simulate the evolution of the temperature in 1D run the following cell"
      ]
    },
    {
      "cell_type": "code",
      "metadata": {
        "id": "OZcsH0nnEPvt",
        "colab_type": "code",
        "outputId": "c34c2379-de1e-46e2-ce18-d5cc40ac535e",
        "colab": {
          "base_uri": "https://localhost:8080/",
          "height": 281
        }
      },
      "source": [
        "#deltaT = .04\n",
        "#parameter of the mesh\n",
        "#L = .4 #cm\n",
        "L = .001 \n",
        "nx = 100.\n",
        "dx = L / nx\n",
        "mesh = Grid1D(nx=nx, dx=dx)\n",
        "#mesh = Grid2D(nx=nx, dx=dx, ny=nx, dy=dx)\n",
        " \n",
        "#time step\n",
        "dt = .001\n",
        "\n",
        "#Declaration of the phase variable\n",
        "phase = CellVariable(name=\" phase \", mesh=mesh,hasOld=True)\n",
        "\n",
        "#Initialization of the phase field variable \n",
        "phase.setValue(1.)\n",
        "phase.setValue(0., where= ((mesh.x-L/2)**2 >= L**2/100))\n",
        "\n",
        "\n",
        "dT = CellVariable(name=\" temp \", mesh=mesh,hasOld=True)\n",
        "dT.setValue(Tm)\n",
        "\n",
        "\n",
        "delta = 1.5* dx\n",
        "kappa = 6 * sigma * delta # J / m\n",
        "W = 3 * sigma / delta # J / m**3\n",
        "Mphi = Tm * beta / (6. * Lv * delta) # m**3 / (J s)\n",
        "\n",
        "#definition of the phase field equation\n",
        "mPhi = -(2*(1 - 2 * phase) * W + 30 * phase * (1 - phase) * Lv * (-dT + Tm) / Tm)\n",
        "dmPhidPhi = 4 * W - 30 * (1 - 2 * phase) * Lv * (-dT + Tm) / Tm\n",
        "S1 = dmPhidPhi * phase * (1 - phase) + mPhi * (1 - 2 * phase)\n",
        "S0 = mPhi * phase * (1 - phase) - S1 * phase\n",
        "phaseEq = ( TransientTerm(coeff = 1/Mphi, var = phase) == DiffusionTerm(coeff = kappa, var = phase) \\\n",
        "                                                        + S0 + ImplicitSourceTerm(coeff = S1, var = phase) )\n",
        "\n",
        "\n",
        "#dT.constrain(1,where = mesh.facesLeft)\n",
        "eqX = (TransientTerm(coeff = cp_tild(phase),var=dT) == DiffusionTerm(coeff = k_tild(phase),var=dT)\\\n",
        "                                                  - (Lv / dt)*(phase - phase.old) \\\n",
        "                                                  + alpha_tild(phase) * I1 * numerix.exp(-((mesh.x-L/2)**2)/rb**2)\\\n",
        "                                                  )\n",
        "\n",
        "# #dt = .001\n",
        "eq = phaseEq & eqX\n",
        "\n",
        "#viewer1 = MatplotlibViewer(vars=(phase) )\n",
        "viewer2= MatplotlibViewer(vars=(dT) )\n",
        "\n",
        "for step in range(451):\n",
        "    phase.updateOld()\n",
        "    dT.updateOld()\n",
        "    # res = 1e+10\n",
        "    # while res > 1e-7:\n",
        "    #      res = phaseEq.sweep(dt=dt)\n",
        "    eq.solve(dt=dt)\n",
        "    #eqX.solve(dt=dt)\n",
        "    viewer2.plot()"
      ],
      "execution_count": 10,
      "outputs": [
        {
          "output_type": "display_data",
          "data": {
            "image/png": "[encoded data removed]",
            "text/plain": [
              "<Figure size 288x288 with 1 Axes>"
            ]
          },
          "metadata": {
            "tags": [],
            "needs_background": "light"
          }
        }
      ]
    },
    {
      "cell_type": "code",
      "metadata": {
        "id": "kKhsFvtUbUCB",
        "colab_type": "code",
        "colab": {}
      },
      "source": [
        ""
      ],
      "execution_count": 0,
      "outputs": []
    },
    {
      "cell_type": "code",
      "metadata": {
        "id": "y0f-UPwoFh64",
        "colab_type": "code",
        "colab": {}
      },
      "source": [
        ""
      ],
      "execution_count": 0,
      "outputs": []
    }
  ]
}